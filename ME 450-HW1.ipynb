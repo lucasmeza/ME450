{
 "cells": [
  {
   "cell_type": "markdown",
   "metadata": {},
   "source": [
    "# ME 450 - Homework 1"
   ]
  },
  {
   "cell_type": "markdown",
   "metadata": {},
   "source": [
    "### Useful Functions"
   ]
  },
  {
   "cell_type": "code",
   "execution_count": 5,
   "metadata": {},
   "outputs": [],
   "source": [
    "def T1_matrix(theta):\n",
    "    \"Transformation matrix to find elastic constants in another direction\"\n",
    "    T1 = np.zeros((3,3))\n",
    "    T1[0,0] =  T1[1,1]= np.cos(theta)**2\n",
    "    T1[0,1] =  T1[1,0] = np.sin(theta)**2\n",
    "    T1[0,2] =  2*np.cos(theta)*np.sin(theta)\n",
    "    T1[1,2] = -2*np.cos(theta)*np.sin(theta)\n",
    "    T1[2,0] = -np.cos(theta)*np.sin(theta)\n",
    "    T1[2,1] =  np.cos(theta)*np.sin(theta)\n",
    "    T1[2,2] =  np.cos(theta)**2 - np.sin(theta)**2\n",
    "    return T1\n",
    "\n",
    "def T2_matrix(theta):\n",
    "    \"Transformation matrix 2 to find elastic constants in another direction\"\n",
    "    T2 = np.zeros((3,3))\n",
    "    T2[0,0] =  T2[1,1]= np.cos(theta)**2\n",
    "    T2[0,1] =  T2[1,0] = np.sin(theta)**2\n",
    "    T2[0,2] =  np.cos(theta)*np.sin(theta)\n",
    "    T2[1,2] =  -np.cos(theta)*np.sin(theta)\n",
    "    T2[2,0] =  -2*np.cos(theta)*np.sin(theta)\n",
    "    T2[2,1] =  2*np.cos(theta)*np.sin(theta)\n",
    "    T2[2,2] =  np.cos(theta)**2 - np.sin(theta)**2\n",
    "    T3 = np.linalg.inv(T2)\n",
    "    return T3"
   ]
  }
 ],
 "metadata": {
  "kernelspec": {
   "display_name": "Python 3",
   "language": "python",
   "name": "python3"
  },
  "language_info": {
   "codemirror_mode": {
    "name": "ipython",
    "version": 3
   },
   "file_extension": ".py",
   "mimetype": "text/x-python",
   "name": "python",
   "nbconvert_exporter": "python",
   "pygments_lexer": "ipython3",
   "version": "3.7.4"
  }
 },
 "nbformat": 4,
 "nbformat_minor": 4
}
