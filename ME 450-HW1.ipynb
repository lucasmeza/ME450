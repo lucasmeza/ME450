{
 "cells": [
  {
   "cell_type": "markdown",
   "metadata": {},
   "source": [
    "# ME 450 - Homework 1"
   ]
  },
  {
   "cell_type": "markdown",
   "metadata": {},
   "source": [
    "### Useful Functions"
   ]
  },
  {
   "cell_type": "code",
   "execution_count": 5,
   "metadata": {},
   "outputs": [],
   "source": [
    "import numpy as np\n",
    "from numpy import cos,sin\n",
    "def T_matrix(theta):\n",
    "    \"Transformation matrix to rotate stress in 2D (stress represented as a 3x1 vector)\"\n",
    "    T = np.zeros((3,3))\n",
    "    T[0,0] =  T[1,1] = cos(theta)**2\n",
    "    T[0,1] =  T[1,0] = sin(theta)**2\n",
    "    T[0,2] =  2*cos(theta)*sin(theta)\n",
    "    T[1,2] = -2*cos(theta)*sin(theta)\n",
    "    T[2,0] = -cos(theta)*sin(theta)\n",
    "    T[2,1] =  cos(theta)*sin(theta)\n",
    "    T[2,2] =  cos(theta)**2 - sin(theta)**2\n",
    "    return T\n",
    "\n",
    "def Tp_matrix(theta):\n",
    "    \"Transformation matrix to rotate strain in 2D (stress represented as a 3x1 vector)\"\n",
    "    Tp = np.zeros((3,3))\n",
    "    Tp[0,0] =  Tp[1,1] = cos(theta)**2\n",
    "    Tp[0,1] =  Tp[1,0] = sin(theta)**2\n",
    "    Tp[0,2] =  cos(theta)*sin(theta)\n",
    "    Tp[1,2] =  -cos(theta)*sin(theta)\n",
    "    Tp[2,0] =  -2*cos(theta)*sin(theta)\n",
    "    Tp[2,1] =  2*cos(theta)*sin(theta)\n",
    "    Tp[2,2] =  cos(theta)**2 - sin(theta)**2\n",
    "    return Tp"
   ]
  }
 ],
 "metadata": {
  "kernelspec": {
   "display_name": "Python 3",
   "language": "python",
   "name": "python3"
  },
  "language_info": {
   "codemirror_mode": {
    "name": "ipython",
    "version": 3
   },
   "file_extension": ".py",
   "mimetype": "text/x-python",
   "name": "python",
   "nbconvert_exporter": "python",
   "pygments_lexer": "ipython3",
   "version": "3.7.4"
  }
 },
 "nbformat": 4,
 "nbformat_minor": 4
}
