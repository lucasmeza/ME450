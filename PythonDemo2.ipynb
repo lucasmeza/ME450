{
 "cells": [
  {
   "cell_type": "markdown",
   "metadata": {},
   "source": [
    "# Python Demo 2"
   ]
  },
  {
   "cell_type": "markdown",
   "metadata": {},
   "source": [
    "### Let's look into rotations"
   ]
  },
  {
   "cell_type": "code",
   "execution_count": 16,
   "metadata": {},
   "outputs": [],
   "source": [
    "import numpy as np"
   ]
  },
  {
   "cell_type": "code",
   "execution_count": 17,
   "metadata": {},
   "outputs": [],
   "source": [
    "from numpy import cos,sin\n",
    "def T_matrix(theta):\n",
    "    \"Transformation matrix to rotate stress in 2D (stress represented as a 3x1 vector)\"\n",
    "    T = np.zeros((3,3))\n",
    "    T[0,0] =  T[1,1] = cos(theta)**2\n",
    "    T[0,1] =  T[1,0] = sin(theta)**2\n",
    "    T[0,2] =  2*cos(theta)*sin(theta)\n",
    "    T[1,2] = -2*cos(theta)*sin(theta)\n",
    "    T[2,0] = -cos(theta)*sin(theta)\n",
    "    T[2,1] =  cos(theta)*sin(theta)\n",
    "    T[2,2] =  cos(theta)**2 - sin(theta)**2\n",
    "    return T\n",
    "\n",
    "def Tp_matrix(theta):\n",
    "    \"Transformation matrix to rotate strain in 2D (stress represented as a 3x1 vector)\"\n",
    "    Tp = np.zeros((3,3))\n",
    "    Tp[0,0] =  Tp[1,1] = cos(theta)**2\n",
    "    Tp[0,1] =  Tp[1,0] = sin(theta)**2\n",
    "    Tp[0,2] =  cos(theta)*sin(theta)\n",
    "    Tp[1,2] =  -cos(theta)*sin(theta)\n",
    "    Tp[2,0] =  -2*cos(theta)*sin(theta)\n",
    "    Tp[2,1] =  2*cos(theta)*sin(theta)\n",
    "    Tp[2,2] =  cos(theta)**2 - sin(theta)**2\n",
    "    return Tp"
   ]
  },
  {
   "cell_type": "markdown",
   "metadata": {},
   "source": [
    "## Rotate a Stress Tensor"
   ]
  },
  {
   "cell_type": "code",
   "execution_count": 26,
   "metadata": {},
   "outputs": [
    {
     "name": "stdout",
     "output_type": "stream",
     "text": [
      "[100  50  10]\n",
      "[ 71.16025404  78.83974596 -26.65063509]\n"
     ]
    }
   ],
   "source": [
    "#sp = T*s\n",
    "s = np.array([100,50,10])\n",
    "th = np.pi/3\n",
    "T = T_matrix(th)\n",
    "sp = T.dot(s)\n",
    "print(s)\n",
    "print(sp)"
   ]
  },
  {
   "cell_type": "markdown",
   "metadata": {},
   "source": [
    "## Rotate a Strain Tensor"
   ]
  },
  {
   "cell_type": "code",
   "execution_count": 33,
   "metadata": {},
   "outputs": [
    {
     "name": "stdout",
     "output_type": "stream",
     "text": [
      "[0.001  0.003  0.0002]\n",
      "[0.0025866  0.0014134  0.00163205]\n"
     ]
    }
   ],
   "source": [
    "#ep = Tp*e\n",
    "e = np.array([1,3,0.2])*1e-3\n",
    "th = np.pi/3\n",
    "Tp = Tp_matrix(th)\n",
    "ep = Tp.dot(e)\n",
    "print(e)\n",
    "print(ep)"
   ]
  },
  {
   "cell_type": "markdown",
   "metadata": {},
   "source": [
    "## Rotate a Stiffness Matrix"
   ]
  },
  {
   "cell_type": "code",
   "execution_count": 38,
   "metadata": {},
   "outputs": [
    {
     "name": "stdout",
     "output_type": "stream",
     "text": [
      "[[100  20   0]\n",
      " [ 20  30   0]\n",
      " [  0   0  15]]\n",
      "[[57.5 27.5 17.5]\n",
      " [27.5 57.5 17.5]\n",
      " [17.5 17.5 22.5]]\n"
     ]
    }
   ],
   "source": [
    "#Cp = Tinv*C*Tp\n",
    "C = np.array([[100,20,0],[20,30,0],[0,0,15]])\n",
    "th = np.pi/4\n",
    "T = T_matrix(th)\n",
    "Tp = Tp_matrix(th)\n",
    "Cp = np.linalg.inv(T).dot(C).dot(Tp)\n",
    "print(C)\n",
    "print(np.round(Cp,6))"
   ]
  },
  {
   "cell_type": "markdown",
   "metadata": {},
   "source": [
    "## Rotate a Compliance Matrix"
   ]
  },
  {
   "cell_type": "code",
   "execution_count": 45,
   "metadata": {},
   "outputs": [
    {
     "name": "stdout",
     "output_type": "stream",
     "text": [
      "[[ 0.01153846 -0.00769231  0.        ]\n",
      " [-0.00769231  0.03846154  0.        ]\n",
      " [ 0.          0.          0.06666667]]\n",
      "[[ 0.031971 -0.007933 -0.01138 ]\n",
      " [-0.007933  0.01851  -0.011936]\n",
      " [-0.01138  -0.011936  0.065705]]\n"
     ]
    }
   ],
   "source": [
    "#Sp = Tpinv*S*T\n",
    "S = np.linalg.inv(C)\n",
    "th = np.pi/3\n",
    "T = T_matrix(th)\n",
    "Tp = Tp_matrix(th)\n",
    "Sp = np.linalg.inv(Tp).dot(S).dot(T)\n",
    "print(S)\n",
    "print(np.round(Sp,6))"
   ]
  },
  {
   "cell_type": "markdown",
   "metadata": {},
   "source": [
    "## Make a Plot"
   ]
  },
  {
   "cell_type": "code",
   "execution_count": 54,
   "metadata": {},
   "outputs": [
    {
     "data": {
      "text/plain": [
       "<matplotlib.legend.Legend at 0x7f3e56272610>"
      ]
     },
     "execution_count": 54,
     "metadata": {},
     "output_type": "execute_result"
    },
    {
     "data": {
      "image/png": "[encoded data removed]",
      "text/plain": [
       "<Figure size 432x288 with 1 Axes>"
      ]
     },
     "metadata": {
      "needs_background": "light"
     },
     "output_type": "display_data"
    }
   ],
   "source": [
    "import matplotlib as mpl\n",
    "import matplotlib.pyplot as plt\n",
    "\n",
    "x = np.linspace(-1,1,20)\n",
    "y = x**2\n",
    "y2 = x**3\n",
    "\n",
    "fig = plt.figure(1)\n",
    "ax = fig.gca()\n",
    "ax.plot(x,y,'r.-',label='x**2')\n",
    "ax.plot(x,y2,'g.-',label='x**3')\n",
    "ax.legend()"
   ]
  }
 ],
 "metadata": {
  "kernelspec": {
   "display_name": "Python 3",
   "language": "python",
   "name": "python3"
  },
  "language_info": {
   "codemirror_mode": {
    "name": "ipython",
    "version": 3
   },
   "file_extension": ".py",
   "mimetype": "text/x-python",
   "name": "python",
   "nbconvert_exporter": "python",
   "pygments_lexer": "ipython3",
   "version": "3.7.4"
  }
 },
 "nbformat": 4,
 "nbformat_minor": 4
}
