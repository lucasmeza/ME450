{
 "cells": [
  {
   "cell_type": "markdown",
   "metadata": {},
   "source": [
    "# Here's Some Python Basics"
   ]
  },
  {
   "cell_type": "markdown",
   "metadata": {},
   "source": [
    "### Python is a high level language"
   ]
  },
  {
   "cell_type": "code",
   "execution_count": null,
   "metadata": {},
   "outputs": [],
   "source": [
    "a = 1 #this is an integer\n",
    "b = ['a','b',1.1] #this is a list\n",
    "print(a)\n",
    "print(b)"
   ]
  },
  {
   "cell_type": "markdown",
   "metadata": {},
   "source": [
    "### Jupyter is a cell-level programming editor"
   ]
  },
  {
   "cell_type": "code",
   "execution_count": null,
   "metadata": {},
   "outputs": [],
   "source": [
    "from IPython.lib.display import YouTubeVideo\n",
    "YouTubeVideo('eJDxcR1V7Qg')"
   ]
  },
  {
   "cell_type": "markdown",
   "metadata": {},
   "source": [
    "### It has syntax and style for writing code"
   ]
  },
  {
   "cell_type": "code",
   "execution_count": null,
   "metadata": {},
   "outputs": [],
   "source": [
    "print(1+1) #this adds two integers\n",
    "print(['a',2,3]+[1,2,3]) #this combines two lists\n",
    "print(1*2) #this multiplies two integers\n",
    "print([1]*10) #This duplicates a list"
   ]
  },
  {
   "cell_type": "markdown",
   "metadata": {},
   "source": [
    "### Many commands are familiar"
   ]
  },
  {
   "cell_type": "code",
   "execution_count": null,
   "metadata": {},
   "outputs": [],
   "source": [
    "#If, else, for demo\n",
    "a = 1\n",
    "if a==2: print('true')\n",
    "else: print('false')\n",
    "for x in ['a',2,3]: print(x)"
   ]
  },
  {
   "cell_type": "markdown",
   "metadata": {},
   "source": [
    "### And there are some useful tricks"
   ]
  },
  {
   "cell_type": "code",
   "execution_count": null,
   "metadata": {},
   "outputs": [],
   "source": [
    "#Normal for loop\n",
    "a = []\n",
    "for x in [1,2,3,4,5]:\n",
    "    a += [x**2]\n",
    "print(a)\n",
    "print(a[0]) #print first entry of a\n",
    "print(a[-1]) #prints last entry in a\n",
    "print(a[:2]) #prints first 2 entries in a\n",
    "print(a[::2]) #prints every 2nd entry in a\n",
    "\n",
    "for x in ['a','b',3]:\n",
    "    print(x)"
   ]
  },
  {
   "cell_type": "code",
   "execution_count": null,
   "metadata": {},
   "outputs": [],
   "source": [
    "#List comprehension\n",
    "a = [x**2 for x in [1,2,3,4,5] if x!=3] #for loop and if statement wrapped into one\n",
    "print(a)"
   ]
  },
  {
   "cell_type": "markdown",
   "metadata": {},
   "source": [
    "### There are many resources to get familiarized"
   ]
  },
  {
   "cell_type": "code",
   "execution_count": null,
   "metadata": {},
   "outputs": [],
   "source": [
    "from IPython.lib.display import YouTubeVideo\n",
    "YouTubeVideo('hKA7Wsx_354')"
   ]
  },
  {
   "cell_type": "markdown",
   "metadata": {},
   "source": [
    "### Let's learn how to do some matrix math"
   ]
  },
  {
   "cell_type": "code",
   "execution_count": null,
   "metadata": {},
   "outputs": [],
   "source": [
    "## Vector and matrix definitions\n",
    "v = [1,2,3] #this is a list, it's like a vector\n",
    "\n",
    "A = [[1,2,3],[4,5,6],[7,8,9]] #this is a list of lists, it's like a matrix\n",
    "print(v)\n",
    "print(A)"
   ]
  },
  {
   "cell_type": "code",
   "execution_count": null,
   "metadata": {},
   "outputs": [],
   "source": [
    "## Creating a function\n",
    "x = 1\n",
    "y = 2\n",
    "\n",
    "def addScalars(a,b):\n",
    "    '''Return the sum of a and b'''\n",
    "    return a+b\n",
    "\n",
    "print(x+y)\n",
    "print(addScalars(x,y))\n",
    "\n",
    "x = [1,2,3,1]\n",
    "y = [5,6,7]\n",
    "\n",
    "def addVect(a,b):\n",
    "    '''Return the sum of the entries in a and b'''\n",
    "    #Check that lengths match\n",
    "    if len(a) != len(b):\n",
    "        return 'Error'\n",
    "    \n",
    "    #Sum the vectors\n",
    "    return [a[0]+b[0],a[1]+b[1],a[2]+b[2]]\n",
    "\n",
    "print(x+y)\n",
    "print(addVect(x,y))"
   ]
  },
  {
   "cell_type": "markdown",
   "metadata": {},
   "source": [
    "### Python has a basic functionality for list manipulation, but any advanced math requires a library to be imported. \n",
    "### One popular math library is numpy."
   ]
  },
  {
   "cell_type": "markdown",
   "metadata": {},
   "source": [
    "### Numpy is a library that enables vector and matrix operations it makes life much easier when working with vectors"
   ]
  },
  {
   "cell_type": "code",
   "execution_count": null,
   "metadata": {},
   "outputs": [],
   "source": [
    "import numpy as np"
   ]
  },
  {
   "cell_type": "code",
   "execution_count": null,
   "metadata": {},
   "outputs": [],
   "source": [
    "v = np.array([1,2,3]) #this is now a 3x1 numpy array (vector)\n",
    "A = np.array([[1,2,3],[4,5,6],[7,8,9]]) #this is now a 3x3 numpy array (matrix)\n",
    "\n",
    "print('Values stored in v')\n",
    "print(v)\n",
    "\n",
    "print('\\n'+'Values stored in A')\n",
    "print(A)\n",
    "\n",
    "## Vector and matrix multiplication\n",
    "w = np.array([2,3,4])\n",
    "B = np.array([[2,3,4],[5,6,7],[8,9,10]])\n",
    "\n",
    "print('Values stored in w')\n",
    "print(w)\n",
    "print('\\n'+'Values stored in B')\n",
    "print(B)"
   ]
  },
  {
   "cell_type": "markdown",
   "metadata": {},
   "source": [
    "### Numpy can do most all matrix math"
   ]
  },
  {
   "cell_type": "code",
   "execution_count": null,
   "metadata": {},
   "outputs": [],
   "source": [
    "print('\\n'+'Scalar times a vector')\n",
    "print(3*v)\n",
    "\n",
    "print('\\n'+'Scalar times a matrix')\n",
    "print(2*A)\n",
    "\n",
    "print('\\n'+'Dot product of v and w')\n",
    "print(v.dot(w))\n",
    "\n",
    "print('\\n'+'Multiplies matrix A by vector v')\n",
    "print(A.dot(v))\n",
    "\n",
    "print('\\n'+'Multiplies vector v by matrix A')\n",
    "print(v.dot(A))\n",
    "\n",
    "print('\\n'+'Multiplies matrix A by matrix B')\n",
    "print(A.dot(B))\n",
    "\n",
    "print('\\n'+'Transpose matrix A')\n",
    "print(A.T)\n",
    "\n",
    "print('\\n'+'Piecewise multiplication of A and v (not a normal matrix-vector multiplication')\n",
    "print(A*v)"
   ]
  },
  {
   "cell_type": "markdown",
   "metadata": {},
   "source": [
    "### Rotation matrices"
   ]
  },
  {
   "cell_type": "code",
   "execution_count": null,
   "metadata": {},
   "outputs": [],
   "source": [
    "from numpy import pi   #Functions can be imported from libraries individually, but it should be done sparingly\n",
    "theta = pi/2\n",
    "from numpy import cos,sin\n",
    "c = cos(theta)\n",
    "s = sin(theta)\n",
    "print(c)\n",
    "print(s)"
   ]
  },
  {
   "cell_type": "code",
   "execution_count": null,
   "metadata": {},
   "outputs": [],
   "source": [
    "#Define a rotation matrix R\\\n",
    "R = np.array([[c,s],[-s,c]])\n",
    "print(R)"
   ]
  },
  {
   "cell_type": "code",
   "execution_count": null,
   "metadata": {},
   "outputs": [],
   "source": [
    "#Rotate a matrix\n",
    "s = np.array([[1,0],[0,0]])\n",
    "print(s)\n",
    "#R*s*Rtranspose\n",
    "sp = R.dot(s).dot(R.T)\n",
    "print(np.round(sp,3))"
   ]
  }
 ],
 "metadata": {
  "kernelspec": {
   "display_name": "Python 3",
   "language": "python",
   "name": "python3"
  },
  "language_info": {
   "codemirror_mode": {
    "name": "ipython",
    "version": 3
   },
   "file_extension": ".py",
   "mimetype": "text/x-python",
   "name": "python",
   "nbconvert_exporter": "python",
   "pygments_lexer": "ipython3",
   "version": "3.7.4"
  }
 },
 "nbformat": 4,
 "nbformat_minor": 4
}
