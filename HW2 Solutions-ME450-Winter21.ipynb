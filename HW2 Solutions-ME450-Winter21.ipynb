{
 "cells": [
  {
   "cell_type": "markdown",
   "metadata": {},
   "source": [
    "## HW 2 Solutions"
   ]
  },
  {
   "cell_type": "markdown",
   "metadata": {},
   "source": [
    "### Import Libraries"
   ]
  },
  {
   "cell_type": "code",
   "execution_count": 2,
   "metadata": {},
   "outputs": [],
   "source": [
    "import matplotlib as mpl\n",
    "import matplotlib.pyplot as plt\n",
    "import numpy as np\n",
    "from mpl_toolkits.mplot3d import Axes3D\n",
    "from math import *\n",
    "from numpy.linalg import inv"
   ]
  },
  {
   "cell_type": "markdown",
   "metadata": {},
   "source": [
    "### Define Functions"
   ]
  },
  {
   "cell_type": "code",
   "execution_count": 3,
   "metadata": {},
   "outputs": [],
   "source": [
    "def eta(P1, P2, xi):\n",
    "    '''Function used in the Halpin-Tsai relationships.'''\n",
    "    return ((P1/P2)-1)/((P1/P2)+xi)\n",
    "\n",
    "def transIsoStiffness(E1, nu1, E2, nu2, V, HT=True):\n",
    "    '''Return the 2D stiffness tensor of a transversely isotropic composite made\n",
    "       from materials 1 and 2. Inputs required are the stiffness and Poisson's ratio of\n",
    "       both materials (E1, nu1, E2, nu2) and volume fraction V of material 1.\n",
    "       Properties are calculated using Halpin-Tsai relationships by default (HT = True),\n",
    "       but a Reuss model can be used if desired.'''\n",
    "\n",
    "    # Calculate Base Material Properties\n",
    "    G1 = E1/(2*(1+nu1))\n",
    "    G2 = E2/(2*(1+nu2))\n",
    "\n",
    "    # Calculate Material Properties\n",
    "    Ex = E1*V + E2*(1-V) #Voigt\n",
    "\n",
    "    if HT: #Halpin-Tsai\n",
    "        Ey = E2*(1 + 2*eta(E1,E2,2)*V)/(1 - eta(E1,E2,2)*V)\n",
    "        Gxy = G2*(1 + 1*eta(G1,G2,1)*V)/(1 - eta(G1,G2,1)*V)\n",
    "    else: #Reuss\n",
    "        Ey = 1/(V/E1+(1-V)/E2)\n",
    "        Gxy = 1/(V/G1+(1-V)/G2)\n",
    "\n",
    "    nuxy = nu1*V+nu2*(1-V) #Voigt\n",
    "    nuyx = nuxy*Ey/Ex #Reciprocal\n",
    "\n",
    "    # Create Stiffness Matrix\n",
    "    C = [[Ex/(1-nuxy*nuyx),      nuyx*Ex/(1-nuxy*nuyx), 0],\n",
    "         [nuyx*Ex/(1-nuxy*nuyx), Ey/(1-nuxy*nuyx),      0],\n",
    "         [0,                     0,                     Gxy]]\n",
    "\n",
    "    return np.array(C)\n",
    "\n",
    "def transIsoCompliance(E1, nu1, E2, nu2, V, HT=True):\n",
    "    return inv(transIsoStiffness(E1, nu1, E2, nu2, V, HT=True))\n",
    "\n",
    "def rotaT(theta):\n",
    "    '''Matrix for stress rotation in 2D.'''\n",
    "    c = cos(theta)\n",
    "    s = sin(theta)\n",
    "    return np.array([[c**2, s**2, 2*s*c],[s**2, c**2, -2*s*c],[-s*c, s*c, c**2-s**2]])\n",
    "\n",
    "def rotaTP(theta):\n",
    "    '''Matrix for strain rotation in 2D.'''\n",
    "    c = cos(theta)\n",
    "    s = sin(theta)\n",
    "    return np.array([[c**2, s**2, s*c],[s**2, c**2, -s*c],[-2*s*c, 2*s*c, c**2-s**2]])\n",
    "\n",
    "def rotateStress(stress, theta):\n",
    "    '''Rotate 2D stress counterclockwise. Input stress as a 3x1 vector'''\n",
    "    T = rotaT(theta)\n",
    "    return T.dot(stress)\n",
    "\n",
    "def rotateStrain(strain, theta):\n",
    "    '''Rotate 2D strain counterclockwise. Input  strain as a 3x1 vector'''\n",
    "    TP = rotaTP(theta)\n",
    "    return TP.dot(strain)\n",
    "\n",
    "def rotateStiffness(C, theta):\n",
    "    '''Rotate the 2D stiffness tensor C counterclockwise by angle theta.'''\n",
    "    # Define rotation matrix T and T'\n",
    "    T = rotaT(theta)\n",
    "    TP = rotaTP(theta)\n",
    "\n",
    "    # Stress tensor rotations\n",
    "    return inv(T).dot(C).dot(TP)\n",
    "\n",
    "def rotateCompliance(S, theta):\n",
    "    '''Rotate the 2D compliance tensor S counterclockwise by angle theta.'''\n",
    "    # Define rotation matrix T and T'\n",
    "    T = rotaT(theta)\n",
    "    TP = rotaTP(theta)\n",
    "\n",
    "    # Stress tensor rotations\n",
    "    return inv(TP).dot(S).dot(T)\n",
    "\n",
    "def laminateStiffness(C, thetas, ts):\n",
    "    '''Return the stiffness of a laminate given a single input C aligned with the\n",
    "    fiber orientation of the base material, an array of angles corresponding to the\n",
    "    laminate stack and an array of thicknesses ts corresponding to each lamina.'''\n",
    "    return sum([rotateStiffness(C,theta)*t for theta,t in zip(thetas,ts)])/sum(ts)\n",
    "\n",
    "def laminateCompliance(CLam):\n",
    "    return inv(CLam)\n",
    "\n",
    "def shortfiberstiffness(Em, Ef, V, s, vm):\n",
    "    '''Calculates the stiffness of a short fiber composite using the modified shear lag model.\n",
    "    Inputs are stiffness of fiber and matrix (Ef and Em), Volume fraction of fiber, fiber\n",
    "    aspect ratio (s) and matrix Poisson's ratio vm'''\n",
    "    n = np.sqrt(2*Em/(Ef*(1+vm)*np.log(1/V)))\n",
    "    a = np.cosh(n*s)\n",
    "    Emprime = (Ef*(1-(1/a)) + Em)\n",
    "    angle = n*s*180/(np.pi)\n",
    "    E = V*Ef*(1-((Ef-Emprime)*np.tanh(n*s))/(Ef*n*s)) + (1-V)*Em\n",
    "    return E\n",
    "\n",
    "def isLaminateBalanced(S, plot):\n",
    "    '''Determine whether a laminate is balanced by inputting a compliance matrix S.\n",
    "    Plot is True or False and will plot the tension-shear interaction ratios'''\n",
    "\n",
    "    # Define angles between 0-90 degrees\n",
    "    ths = [x*pi/180 for x in range(91)]\n",
    "\n",
    "    # Find tension-shear interaction ratios\n",
    "    nxyx = []; nxyy = []\n",
    "    for th in ths:\n",
    "      SLR = rotateCompliance(S, th)\n",
    "      nxyx += [SLR[0][2]*SLR[0][0]]\n",
    "      nxyy += [SLR[1][2]*SLR[1][1]]\n",
    "\n",
    "    # Plot the results\n",
    "    if plot:\n",
    "        fig,axs = plt.subplots(nrows=2, ncols=1)\n",
    "        axs[0].plot(ths, nxyx)\n",
    "        axs[1].plot(ths, nxyy)\n",
    "        axs[1].set_xlabel(r'Angle $\\theta$')\n",
    "        axs[0].set_ylabel(r'$\\eta_{xyx}$')\n",
    "        axs[1].set_ylabel(r'$\\eta_{xyy}$')\n",
    "\n",
    "    # Return balanced or not\n",
    "    return all(x==0 for x in nxyx) and all(x==0 for x in nxyy)\n",
    "\n",
    "def Thermal_strain(e1,e2,g12, alphm, alphf, Em, Ef, vm, vf, f, delT):\n",
    "    '''Calculates the thermal strain induced in a composite'''\n",
    "    alph11 = (alphf*f*Ef + alphm*(1-f)*Em)/(f*Ef + (1-f)*Em)\n",
    "    alph22 = alphf*f*(1+vf) + alphm*(1-f)*(1+vm) - alph11*(f*vf + (1-f)*vm)\n",
    "    strain = np.zeros((3,1))\n",
    "    strain[0,0] = e1-alph11*delT\n",
    "    strain[1,0] = e2-alph22*delT\n",
    "    strain[2,0] = g12\n",
    "#    print(alph11, alph22)\n",
    "    return strain"
   ]
  },
  {
   "cell_type": "markdown",
   "metadata": {},
   "source": [
    "### Q3"
   ]
  },
  {
   "cell_type": "code",
   "execution_count": 4,
   "metadata": {},
   "outputs": [],
   "source": [
    "C_3 = transIsoStiffness(320,0.21,2.4,0.42,0.65, HT=False) #GPa\n",
    "e_3 = Thermal_strain(0,0,0, 90*10**(-6), 0.3*10**(-6), 2.4, 320, 0.42, 0.21, 0.65, 80-20)\n",
    "stress_3= C_3.dot(e_3) #GPa\n",
    "# print(\"Sigma=\",stress_3, \"GPa\")"
   ]
  },
  {
   "cell_type": "markdown",
   "metadata": {},
   "source": [
    "### Q4"
   ]
  },
  {
   "cell_type": "code",
   "execution_count": 5,
   "metadata": {},
   "outputs": [],
   "source": [
    "C_input_4 = ([[46500,2100,0],[2100,6000,0], [0,0,1600]]) #MPa\n",
    "stress_global_4 = ([20, -5, 5]) #MPa\n",
    "theta_4 = ([0, np.pi/2])\n",
    "ts_4 = ([1,1])\n",
    "C_global_4 = laminateStiffness(C_input_4, theta_4, ts_4)\n",
    "S_global_4 = laminateCompliance(C_global_4)\n",
    "strain_global_4 = S_global_4.dot(stress_global_4)\n",
    "stress_local_0_4 = np.matmul(C_input_4, strain_global_4)\n",
    "# print(\"Stress=\", stress_local_0_4, \"MPa\")"
   ]
  },
  {
   "cell_type": "markdown",
   "metadata": {},
   "source": [
    "### Q5"
   ]
  },
  {
   "cell_type": "code",
   "execution_count": 6,
   "metadata": {},
   "outputs": [],
   "source": [
    "C1_5 = np.array([[91.05, 30.59,  0], [30.59, 91.05, 0], [0,0,30.23]])\n",
    "C2_5 = np.array([[115.85, 5.79,0], [5.79, 115.85, 0], [0, 0, 5.42]])\n",
    "S1_5 = np.linalg.inv(C1_5)\n",
    "S2_5 = np.linalg.inv(C2_5) \n",
    "\n",
    "# Laminate_1_5 = isLaminateBalanced(S1_5, True)\n",
    "# Laminate_2_5 = isLaminateBalanced(S2_5, True)"
   ]
  },
  {
   "cell_type": "markdown",
   "metadata": {},
   "source": [
    "### Q6"
   ]
  },
  {
   "cell_type": "code",
   "execution_count": 7,
   "metadata": {},
   "outputs": [],
   "source": [
    "# Input Properties\n",
    "Em = 72     #GPa\n",
    "Ef = 192    #Gpa\n",
    "V = 0.35\n",
    "vm = 0.33\n",
    "vf = 0.16\n",
    "s = np.linspace(1,10,10)\n",
    "\n",
    "# Calculation for Modified Shear Lag model\n",
    "Modshearlag = []\n",
    "for i in s:\n",
    "    answer = shortfiberstiffness(Em, Ef, V, s, vm)\n",
    "    Modshearlag.append(answer)\n",
    "\n",
    "# Rule of Mixtures\n",
    "E2 = V*Ef + (1-V)*Em\n",
    "\n",
    "# MSL_plot = plt.plot(s,Modshearlag[0], 'k--', label='Modified Shear lag Model')\n",
    "# MSL_plot = plt.axhline(y = E2, linestyle=':',label='Rule of Mixtures')\n",
    "# plt.xlabel =('Reinforcement aspect ratio')\n",
    "# plt.ylabel = (\"Modulus (GPa)\")\n",
    "# legend = plt.legend(loc='lower right', fontsize='medium')"
   ]
  },
  {
   "cell_type": "markdown",
   "metadata": {},
   "source": [
    "### Q7"
   ]
  },
  {
   "cell_type": "code",
   "execution_count": 8,
   "metadata": {},
   "outputs": [],
   "source": [
    "C_input_7 = ([151, 3.4, 0], [3.4,16.7,0], [0,0,4.7])\n",
    "theta_7 = ([0, np.pi/2, np.pi/3, -np.pi/3, np.pi/6, -np.pi/6 ])\n",
    "ts_7 =  ([1,1,0.5,0.5,0.5,0.5])\n",
    "\n",
    "Answer_7 = laminateStiffness(C_input_7, theta_7, ts_7)\n",
    "# print(Answer_7)"
   ]
  },
  {
   "cell_type": "markdown",
   "metadata": {},
   "source": [
    "### Q8"
   ]
  },
  {
   "cell_type": "code",
   "execution_count": 9,
   "metadata": {},
   "outputs": [],
   "source": [
    "strain_8 = ([600*10**-6, 300*10**-6, -120*10**-6])\n",
    "theta_8 = np.arange(0, np.pi/2, np.pi/18)\n",
    "\n",
    "C_90_8 = rotateStiffness(C_input_7, np.pi/2)\n",
    "strain_90_8 = rotateStrain(strain_8, np.pi/2)\n",
    "stress_90_8 = C_90_8.dot(strain_90_8)\n",
    "Answer_8 = []\n",
    "for i in theta_8:\n",
    "   stress = rotateStress(stress_90_8, i)\n",
    "   Answer_8.append(stress[0])\n",
    "\n",
    "# axialstress_plot = plt.plot(theta_8,Answer_8, 'k--', label='Rotated Axial Stress')\n",
    "# plt.xlabel(\"Theta\")\n",
    "# plt.ylabel(\"Stress\")"
   ]
  }
 ],
 "metadata": {
  "kernelspec": {
   "display_name": "Python 3",
   "language": "python",
   "name": "python3"
  },
  "language_info": {
   "codemirror_mode": {
    "name": "ipython",
    "version": 3
   },
   "file_extension": ".py",
   "mimetype": "text/x-python",
   "name": "python",
   "nbconvert_exporter": "python",
   "pygments_lexer": "ipython3",
   "version": "3.8.5"
  }
 },
 "nbformat": 4,
 "nbformat_minor": 4
}
