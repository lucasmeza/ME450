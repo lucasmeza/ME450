{
 "cells": [
  {
   "cell_type": "code",
   "execution_count": 1,
   "metadata": {},
   "outputs": [],
   "source": [
    "import matplotlib.pyplot as plt\n",
    "import numpy as np"
   ]
  },
  {
   "cell_type": "markdown",
   "metadata": {},
   "source": [
    "### Define Functions"
   ]
  },
  {
   "cell_type": "code",
   "execution_count": 2,
   "metadata": {},
   "outputs": [],
   "source": [
    "######## Define Composite Properties ########\n",
    "from math import *\n",
    "import numpy as np\n",
    "from numpy.linalg import inv\n",
    "\n",
    "## Define Functions\n",
    "def eta(P1, P2, xi):\n",
    "    '''Function used in the Halpin-Tsai relationships.'''\n",
    "    return ((P1/P2)-1)/((P1/P2)+xi)\n",
    "#\n",
    "\n",
    "def transIsoStiffness(E1, nu1, E2, nu2, V, HT=True):\n",
    "    '''Return the 2D stiffness tensor of a transversely isotropic composite made\n",
    "       from materials 1 and 2. Inputs required are the stiffness and Poisson's ratio of\n",
    "       both materials (E1, nu1, E2, nu2) and volume fraction V of material 1.\n",
    "       Properties are calculated using Halpin-Tsai relationships by default (HT = True),\n",
    "       but a Reuss model can be used if desired.'''\n",
    "\n",
    "    # Calculate Base Material Properties\n",
    "    G1 = E1/(2*(1+nu1))\n",
    "    G2 = E2/(2*(1+nu2))\n",
    "\n",
    "    # Calculate Material Properties\n",
    "    Ex = E1*V + E2*(1-V) #Voigt\n",
    "\n",
    "    if HT: #Halpin-Tsai\n",
    "        Ey = E2*(1 + 2*eta(E1,E2,2)*V)/(1 - eta(E1,E2,2)*V)\n",
    "        Gxy = G2*(1 + 1*eta(G1,G2,1)*V)/(1 - eta(G1,G2,1)*V)\n",
    "    else: #Reuss\n",
    "        Ey = 1/(V/E1+(1-V)/E2)\n",
    "        Gxy = 1/(V/G1+(1-V)/G2)\n",
    "\n",
    "    nuxy = nu1*V+nu2*(1-V) #Voigt\n",
    "    nuyx = nuxy*Ey/Ex #Reciprocal\n",
    "\n",
    "    # Create Stiffness Matrix\n",
    "    C = [[Ex/(1-nuxy*nuyx),      nuyx*Ex/(1-nuxy*nuyx), 0],\n",
    "         [nuyx*Ex/(1-nuxy*nuyx), Ey/(1-nuxy*nuyx),      0],\n",
    "         [0,                     0,                     Gxy]]\n",
    "\n",
    "    return np.array(C)\n",
    "#\n",
    "\n",
    "def transIsoCompliance(E1, nu1, E2, nu2, V, HT=True):\n",
    "    return inv(transIsoStiffness(E1, nu1, E2, nu2, V, HT=True))\n",
    "#\n",
    "\n",
    "def rotaT(theta):\n",
    "    '''Matrix for stress rotation in 2D.'''\n",
    "    c = cos(theta)\n",
    "    s = sin(theta)\n",
    "    return np.array([[c**2, s**2, 2*s*c],[s**2, c**2, -2*s*c],[-s*c, s*c, c**2-s**2]])\n",
    "#\n",
    "\n",
    "def rotaTP(theta):\n",
    "    '''Matrix for strain rotation in 2D.'''\n",
    "    c = cos(theta)\n",
    "    s = sin(theta)\n",
    "    return np.array([[c**2, s**2, s*c],[s**2, c**2, -s*c],[-2*s*c, 2*s*c, c**2-s**2]])\n",
    "#\n",
    "\n",
    "def rotateStress(stress, theta):\n",
    "    '''Rotate 2D stress counterclockwise. Input stress as a 3x1 vector'''\n",
    "    T = rotaT(theta)\n",
    "    return T.dot(stress)\n",
    "#\n",
    "\n",
    "def rotateStrain(strain, theta):\n",
    "    '''Rotate 2D strain counterclockwise. Input  strain as a 3x1 vector'''\n",
    "    TP = rotaTP(theta)\n",
    "    return TP.dot(strain)\n",
    "\n",
    "def rotateStiffness(C, theta):\n",
    "    '''Rotate the 2D stiffness tensor C counterclockwise by angle theta.'''\n",
    "    # Define rotation matrix T and T'\n",
    "    T = rotaT(theta)\n",
    "    TP = rotaTP(theta)\n",
    "\n",
    "    # Stress tensor rotations\n",
    "    return inv(T).dot(C).dot(TP)\n",
    "\n",
    "def rotateCompliance(S, theta):\n",
    "    '''Rotate the 2D compliance tensor S counterclockwise by angle theta.'''\n",
    "    # Define rotation matrix T and T'\n",
    "    T = rotaT(theta)\n",
    "    TP = rotaTP(theta)\n",
    "\n",
    "    # Stress tensor rotations\n",
    "    return inv(TP).dot(S).dot(T)\n",
    "\n",
    "def laminateStiffness(C, thetas, ts):\n",
    "    '''Return the stiffness of a laminate given a single input C aligned with the\n",
    "    fiber orientation of the base material, an array of angles corresponding to the\n",
    "    laminate stack and an array of thicknesses ts corresponding to each lamina.'''\n",
    "    return sum([rotateStiffness(C,theta)*t for theta,t in zip(thetas,ts)])/sum(ts)\n",
    "\n",
    "def laminateCompliance(CLam):\n",
    "    return inv(CLam)\n",
    "\n",
    "def ShearModulus(Gm, Gf, V):\n",
    "    '''Returns the Shear modulus of a lamina by Halpin-Tsai formulation'''\n",
    "    n = (Gf/Gm -1)/ (Gf/Gm + 1)\n",
    "    G12 = Gm*(1 + n*V)/(1 - n*V)\n",
    "    return (G12)\n",
    "\n",
    "def Compressivestrength(G12, tau12, phi):\n",
    "    '''Returns the compressive strength of a laminate when plastic microbuckling is the\n",
    "    dominant failure mechanism. Takes an input shear modulus, shear strength and the\n",
    "    imperfection angle '''\n",
    "    sig_com = 1/((1/G12) + (phi/tau12))\n",
    "    return (sig_com)\n",
    "\n",
    "def Weibullfailurestrength(Pf,L,L0,sig0):\n",
    "    '''Calculates the failure strength for a given probablity of failure using Weibull Theory.\n",
    "    Takes an input probability of failure, Length of the fiber, Reference length of the fiber and the reference\n",
    "    strength.'''\n",
    "    Failure_strength = sig0*np.exp((np.log(np.log(1/(1-Pf))) -np.log(L/L0))/m)\n",
    "    return (Failure_strength)\n",
    "\n",
    "def maxStressFail(stress, s1, s2, s12):\n",
    "    '''Determine whether a composite will fail under a max stress condition.\n",
    "    Takes an input stress in 2D (aligned with the fiber direction) and strengths\n",
    "    in the 1, 2, and 12 direction. Will return true or false.'''\n",
    "    return stress[0]>s1 or stress[1]>s2 or abs(stress[2])>s12\n",
    "\n",
    "\n",
    "def tsaiHillFail(stress, s1, s2, s12):\n",
    "    '''Determine whether a composite will fail under a Tsai-Hill condition.\n",
    "    Takes an input stress in 2D (aligned with the fiber direction) and strengths\n",
    "    in the 1, 2, and 12 direction. Will return true or false.'''\n",
    "    return (stress[0]/s1)**2+(stress[1]/s2)**2-stress[0]*stress[1]/s1**2+(stress[2]/s12)**2 > 1\n",
    "\n",
    "def laminaFail(stress, th, s1, s2, s12, criterion='Tsai-Hill'):\n",
    "    '''Determine whether an arbitrary load will cause failure. Takes an input stress\n",
    "    in 2D, an angle th, strengths in the 1, 2 and 12 direction, and the criterion to\n",
    "    be used. Returns true or false.'''\n",
    "    # Rotate stress\n",
    "    s = rotateStress(stress,th)\n",
    "    # Determine failure\n",
    "    if criterion == 'Tsai-Hill':\n",
    "        return tsaiHillFail(s, s1, s2, s12)\n",
    "    elif criterion == 'Max Stress':\n",
    "        return maxStressFail(s, s1, s2, s12)\n",
    "    else:\n",
    "        return False"
   ]
  },
  {
   "cell_type": "markdown",
   "metadata": {},
   "source": [
    "### Solutions"
   ]
  },
  {
   "cell_type": "code",
   "execution_count": 13,
   "metadata": {},
   "outputs": [
    {
     "data": {
      "image/png": "[encoded data removed]",
      "text/plain": [
       "<Figure size 432x288 with 1 Axes>"
      ]
     },
     "metadata": {
      "needs_background": "light"
     },
     "output_type": "display_data"
    }
   ],
   "source": [
    "###Q3\n",
    "Gm_3 = 1400       #MPa\n",
    "Gf_3 = 110000    #MPa\n",
    "tau12_3 = 80        #MPa\n",
    "phi = [np.pi/180, np.pi*2/180, np.pi*3/180]\n",
    "V = np.linspace(0.2, 0.9, 20)\n",
    "\n",
    "Answer_3 = []\n",
    "for i in phi:\n",
    "    for j in V:\n",
    "        G12_3 = ShearModulus(Gm_3, Gf_3, j)\n",
    "        Strength_3 = Compressivestrength(G12_3, tau12_3, i)\n",
    "        Answer_3.append(Strength_3)\n",
    "\n",
    "phi1 = Answer_3[0:20:1]\n",
    "phi2 = Answer_3[20:40:1]\n",
    "phi3 = Answer_3[40:60:1]\n",
    "\n",
    "# fig = plt.figure()\n",
    "# plt.plot(V, phi1, label = ('Phi = 1'))       \n",
    "# plt.plot(V, phi2, label = ('Phi = 2'))\n",
    "# plt.plot(V, phi3, label = ('Phi = 3'))\n",
    "# plt.xlabel=(\"Volume Fraction\")\n",
    "# plt.ylabel= (\"Compressive Failure Strength (MPa)\")\n",
    "# plt.legend()\n",
    "# plt.show()"
   ]
  },
  {
   "cell_type": "code",
   "execution_count": 30,
   "metadata": {},
   "outputs": [
    {
     "name": "stdout",
     "output_type": "stream",
     "text": [
      "Applied stress for 1% chance of failure is: 644.6658872464268  MPa\n",
      "Applied stress for 50% chance of failure is: 868.5937982703393  MPa\n"
     ]
    }
   ],
   "source": [
    "####Q4\n",
    "Pf = [0.01, 0.5]\n",
    "L = 0.3        #m\n",
    "L0 = 0.1      #m\n",
    "sig0 = 963   #MPa\n",
    "m = 14.2\n",
    "Answer1_4 = Weibullfailurestrength(Pf[0],L,L0,sig0)\n",
    "Answer2_4 = Weibullfailurestrength(Pf[1],L,L0,sig0)\n",
    "# print (\"Applied stress for 1% chance of failure is:\", Answer1_4, \" MPa\")\n",
    "# print (\"Applied stress for 50% chance of failure is:\", Answer2_4, \" MPa\")"
   ]
  },
  {
   "cell_type": "code",
   "execution_count": 20,
   "metadata": {},
   "outputs": [
    {
     "name": "stdout",
     "output_type": "stream",
     "text": [
      "Maximum stress criterion: True\n",
      "Tsai Hill criterion: True\n"
     ]
    }
   ],
   "source": [
    "###Q6\n",
    "sig1_6 = 500 #600\n",
    "sig2_6 = 20 #30\n",
    "sig12_6 = 50 #70\n",
    "sig_app_1_6 = np.array([100,15,0])\n",
    "sig1 = rotateStress(sig_app_1_6, -np.pi*15/180)\n",
    "Answer1_6 = maxStressFail(sig1, sig1_6, sig2_6, sig12_6)\n",
    "Answer2_6 = tsaiHillFail(sig1, sig1_6, sig2_6, sig12_6)\n",
    "# print (\"Maximum stress criterion:\", Answer1_6)\n",
    "# print (\"Tsai Hill criterion:\", Answer2_6)"
   ]
  },
  {
   "cell_type": "code",
   "execution_count": null,
   "metadata": {},
   "outputs": [],
   "source": [
    "####Q7\n",
    "sig1_7 = 2100\n",
    "sig2_7 = 100\n",
    "sig12_7 = 180\n",
    "sig_app_1_7 = np.array([2000,110,100])\n",
    "sig_app_2_7 = np.array([2200, 90, 80])\n",
    "sig_app_3_7 = np.array([1800, 60, 200])\n",
    "Cases = [sig_app_1_7, sig_app_2_7, sig_app_3_7]\n",
    "\n",
    "Failure_prediction_MaxStress_7 =[]\n",
    "Failure_prediction_TsaiHill_7 =[]\n",
    "\n",
    "for i in range(0,3):\n",
    "    A = Cases[i]\n",
    "    Answer1 = maxStressFail(A, sig1_7, sig2_7, sig12_7)\n",
    "    Answer2 = tsaiHillFail (A, sig1_7, sig2_7, sig12_7)\n",
    "    Failure_prediction_MaxStress_7.append(Answer1)\n",
    "    Failure_prediction_TsaiHill_7.append(Answer2)"
   ]
  },
  {
   "cell_type": "code",
   "execution_count": 35,
   "metadata": {},
   "outputs": [
    {
     "name": "stdout",
     "output_type": "stream",
     "text": [
      "Angle for Maximum stress: 58.5\n",
      "Angle for TsaiHill: 50.5\n"
     ]
    }
   ],
   "source": [
    "####Q8\n",
    "Strengths = [900, 150, 200]  #MPa\n",
    "sig_app_8 = [300, 80, 100]   #MPa\n",
    "theta_8 = np.arange(0,np.pi, np.pi/360)\n",
    "\n",
    "Failure_prediction_MaxStress_8 =[]\n",
    "Failure_prediction_TsaiHill_8 =[]\n",
    "\n",
    "\n",
    "for i in theta_8:\n",
    "    Case1 = laminaFail(sig_app_8, i, Strengths[0] , Strengths[1] , Strengths[2] , criterion='Max Stress')\n",
    "    Case2 = laminaFail(sig_app_8, i, Strengths[0] , Strengths[1] , Strengths[2] , criterion='Tsai-Hill')\n",
    "    if Case1 == True:\n",
    "        Failure_prediction_MaxStress_8.append(i*180/np.pi)\n",
    "    if Case2 == True:\n",
    "        Failure_prediction_TsaiHill_8.append(i*180/np.pi)\n",
    "        \n",
    "# print (\"Angle for Maximum stress:\", Failure_prediction_MaxStress_8[0])\n",
    "# print (\"Angle for TsaiHill:\", Failure_prediction_TsaiHill_8[0])"
   ]
  },
  {
   "cell_type": "code",
   "execution_count": null,
   "metadata": {},
   "outputs": [],
   "source": []
  }
 ],
 "metadata": {
  "kernelspec": {
   "display_name": "Python 3",
   "language": "python",
   "name": "python3"
  },
  "language_info": {
   "codemirror_mode": {
    "name": "ipython",
    "version": 3
   },
   "file_extension": ".py",
   "mimetype": "text/x-python",
   "name": "python",
   "nbconvert_exporter": "python",
   "pygments_lexer": "ipython3",
   "version": "3.8.5"
  }
 },
 "nbformat": 4,
 "nbformat_minor": 4
}
